{
  "nbformat": 4,
  "nbformat_minor": 0,
  "metadata": {
    "colab": {
      "name": "Advanced Computer Vision - 7.Object Localization v4.ipynb",
      "provenance": [],
      "collapsed_sections": [],
      "authorship_tag": "ABX9TyPYYBAA0rJebJzqzGak1uJP",
      "include_colab_link": true
    },
    "kernelspec": {
      "name": "python3",
      "display_name": "Python 3"
    },
    "accelerator": "GPU"
  },
  "cells": [
    {
      "cell_type": "markdown",
      "metadata": {
        "id": "view-in-github",
        "colab_type": "text"
      },
      "source": [
        "<a href=\"https://colab.research.google.com/github/Justabhi96/advanced_computer_vision/blob/master/07_Object_Localization_v4.ipynb\" target=\"_parent\"><img src=\"https://colab.research.google.com/assets/colab-badge.svg\" alt=\"Open In Colab\"/></a>"
      ]
    },
    {
      "cell_type": "markdown",
      "metadata": {
        "id": "L-NdkLOCD-iS",
        "colab_type": "text"
      },
      "source": [
        "# Make the pokemon of different sizes also flip the pokemon randomly"
      ]
    },
    {
      "cell_type": "code",
      "metadata": {
        "id": "b7xKBYMoyinH",
        "colab_type": "code",
        "outputId": "74037740-b6aa-4fa9-907d-71dcdda9791c",
        "colab": {
          "base_uri": "https://localhost:8080/",
          "height": 121
        }
      },
      "source": [
        "# Install TensorFlow\n",
        "# !pip install -q tensorflow-gpu==2.0.0\n",
        "\n",
        "try:\n",
        "  %tensorflow_version 2.x  # Colab only.\n",
        "except Exception:\n",
        "  pass\n",
        "\n",
        "import tensorflow as tf\n",
        "print(tf.__version__)"
      ],
      "execution_count": 0,
      "outputs": [
        {
          "output_type": "stream",
          "text": [
            "`%tensorflow_version` only switches the major version: `1.x` or `2.x`.\n",
            "You set: `2.x  # Colab only.`. This will be interpreted as: `2.x`.\n",
            "\n",
            "\n",
            "TensorFlow 2.x selected.\n",
            "2.1.0\n"
          ],
          "name": "stdout"
        }
      ]
    },
    {
      "cell_type": "code",
      "metadata": {
        "id": "EbkC-Yok73qJ",
        "colab_type": "code",
        "outputId": "c255f123-4b4b-4409-f0b5-59603d9c4e8e",
        "colab": {
          "base_uri": "https://localhost:8080/",
          "height": 208
        }
      },
      "source": [
        "!wget -nc https://lazyprogrammer.me/course_files/charmander-tight.png"
      ],
      "execution_count": 0,
      "outputs": [
        {
          "output_type": "stream",
          "text": [
            "--2020-02-09 18:35:05--  https://lazyprogrammer.me/course_files/charmander-tight.png\n",
            "Resolving lazyprogrammer.me (lazyprogrammer.me)... 104.31.80.48, 104.31.81.48, 2606:4700:3035::681f:5130, ...\n",
            "Connecting to lazyprogrammer.me (lazyprogrammer.me)|104.31.80.48|:443... connected.\n",
            "HTTP request sent, awaiting response... 200 OK\n",
            "Length: 3952 (3.9K) [image/png]\n",
            "Saving to: ‘charmander-tight.png’\n",
            "\n",
            "\rcharmander-tight.pn   0%[                    ]       0  --.-KB/s               \rcharmander-tight.pn 100%[===================>]   3.86K  --.-KB/s    in 0s      \n",
            "\n",
            "2020-02-09 18:35:05 (96.2 MB/s) - ‘charmander-tight.png’ saved [3952/3952]\n",
            "\n"
          ],
          "name": "stdout"
        }
      ]
    },
    {
      "cell_type": "code",
      "metadata": {
        "id": "xlFf-gA1zGJ3",
        "colab_type": "code",
        "colab": {}
      },
      "source": [
        "import numpy as np\n",
        "import matplotlib.pyplot as plt\n",
        "import tensorflow as tf\n",
        "import imageio\n",
        "from tensorflow.keras.layers import Flatten, Dense\n",
        "from tensorflow.keras.models import Model\n",
        "from tensorflow.keras.applications import VGG16\n",
        "from tensorflow.keras.optimizers import Adam, RMSprop, SGD\n",
        "from tensorflow.keras.preprocessing import image"
      ],
      "execution_count": 0,
      "outputs": []
    },
    {
      "cell_type": "code",
      "metadata": {
        "id": "Ctq4GD-j3SGl",
        "colab_type": "code",
        "colab": {}
      },
      "source": [
        "IMAGE_SIZE = [200, 200, 3]"
      ],
      "execution_count": 0,
      "outputs": []
    },
    {
      "cell_type": "code",
      "metadata": {
        "id": "NHY-UFAV1HuT",
        "colab_type": "code",
        "outputId": "1320e170-3a73-4161-9aeb-f47d0fbdd2f9",
        "colab": {
          "base_uri": "https://localhost:8080/",
          "height": 52
        }
      },
      "source": [
        "vgg = VGG16(input_shape = IMAGE_SIZE, weights = \"imagenet\", include_top = False)\n",
        "\n",
        "x = Flatten()(vgg.output)\n",
        "x = Dense(4, activation = \"sigmoid\")(x)\n",
        "model = Model(vgg.input, x)"
      ],
      "execution_count": 0,
      "outputs": [
        {
          "output_type": "stream",
          "text": [
            "Downloading data from https://github.com/fchollet/deep-learning-models/releases/download/v0.1/vgg16_weights_tf_dim_ordering_tf_kernels_notop.h5\n",
            "58892288/58889256 [==============================] - 1s 0us/step\n"
          ],
          "name": "stdout"
        }
      ]
    },
    {
      "cell_type": "code",
      "metadata": {
        "id": "ZPaC2yHg8c4t",
        "colab_type": "code",
        "outputId": "8995c73f-33c7-4810-d30d-9d01088aa02f",
        "colab": {
          "base_uri": "https://localhost:8080/",
          "height": 285
        }
      },
      "source": [
        "ch_image = imageio.imread(\"charmander-tight.png\")\n",
        "plt.imshow(ch_image)"
      ],
      "execution_count": 0,
      "outputs": [
        {
          "output_type": "execute_result",
          "data": {
            "text/plain": [
              "<matplotlib.image.AxesImage at 0x7f42b00f2a20>"
            ]
          },
          "metadata": {
            "tags": []
          },
          "execution_count": 6
        },
        {
          "output_type": "display_data",
          "data": {
            "image/png": "[encoded data removed]",
            "text/plain": [
              "<Figure size 432x288 with 1 Axes>"
            ]
          },
          "metadata": {
            "tags": []
          }
        }
      ]
    },
    {
      "cell_type": "code",
      "metadata": {
        "id": "e0mZdrGY-HEk",
        "colab_type": "code",
        "outputId": "2f16beb7-21a8-42b8-f5ba-90c710765d93",
        "colab": {
          "base_uri": "https://localhost:8080/",
          "height": 35
        }
      },
      "source": [
        "ch_image = np.array(ch_image)\n",
        "ch_h, ch_w, _ = ch_image.shape\n",
        "ch_h, ch_w"
      ],
      "execution_count": 0,
      "outputs": [
        {
          "output_type": "execute_result",
          "data": {
            "text/plain": [
              "(56, 44)"
            ]
          },
          "metadata": {
            "tags": []
          },
          "execution_count": 7
        }
      ]
    },
    {
      "cell_type": "code",
      "metadata": {
        "id": "2-WigyGSz9oE",
        "colab_type": "code",
        "colab": {}
      },
      "source": [
        "from skimage.transform import resize\n",
        "import cv2\n",
        "\n",
        "def image_generator(batch_size=64):\n",
        "  # generate image and targets\n",
        "  while True:\n",
        "    # Each epoch will have 50 batches. Why? No reason\n",
        "    for _ in range(50):\n",
        "      X = np.zeros([batch_size] + IMAGE_SIZE)\n",
        "      Y = np.zeros([batch_size, 4])\n",
        "\n",
        "      for i in range(batch_size):\n",
        "        # to make charmander bigger or smaller\n",
        "        scale = 0.5 + np.random.random() #[0.5, 1.5]\n",
        "        new_h = int(ch_h * scale)\n",
        "        new_w = int(ch_w * scale)\n",
        "\n",
        "        if np.random.random() < 0.5:\n",
        "          ch_temp_image = np.fliplr(ch_image)\n",
        "        else:\n",
        "          ch_temp_image = ch_image\n",
        "        new_ch_img = resize(ch_temp_image, (new_h, new_w), \n",
        "                            preserve_range=True).astype(np.uint8) # to keep the range 0 - 255\n",
        "        row0 = np.random.randint(0, IMAGE_SIZE[0] - new_h)\n",
        "        col0 = np.random.randint(0, IMAGE_SIZE[0] - new_w)\n",
        "        row1 = row0 + new_h\n",
        "        col1 = col0 + new_w\n",
        "\n",
        "        X[i, row0:row1, col0:col1, :] = new_ch_img[:,:,:3]\n",
        "        Y[i, 0] = row0/IMAGE_SIZE[0]\n",
        "        Y[i, 1] = col0/IMAGE_SIZE[0]\n",
        "        Y[i, 2] = (col1-col0)/IMAGE_SIZE[0]\n",
        "        Y[i, 3] = (row1-row0)/IMAGE_SIZE[0]\n",
        "\n",
        "      yield X/255.0, Y"
      ],
      "execution_count": 0,
      "outputs": []
    },
    {
      "cell_type": "code",
      "metadata": {
        "id": "nj3wQVJ67AUH",
        "colab_type": "code",
        "outputId": "de66ccf6-3497-4ee6-beb0-c6d5df9e3215",
        "colab": {
          "base_uri": "https://localhost:8080/",
          "height": 367
        }
      },
      "source": [
        "# Notice learning rate is 10th of previous netebook\n",
        "model.compile(optimizer=Adam(lr = 0.0001), loss = \"binary_crossentropy\")\n",
        "model.fit_generator(image_generator(), epochs = 5, steps_per_epoch=50)"
      ],
      "execution_count": 0,
      "outputs": [
        {
          "output_type": "stream",
          "text": [
            "WARNING:tensorflow:From <ipython-input-10-96d0ca02bf30>:2: Model.fit_generator (from tensorflow.python.keras.engine.training) is deprecated and will be removed in a future version.\n",
            "Instructions for updating:\n",
            "Please use Model.fit, which supports generators.\n",
            "WARNING:tensorflow:sample_weight modes were coerced from\n",
            "  ...\n",
            "    to  \n",
            "  ['...']\n",
            "Train for 50 steps\n",
            "Epoch 1/5\n",
            "50/50 [==============================] - 50s 1s/step - loss: 0.5582\n",
            "Epoch 2/5\n",
            "50/50 [==============================] - 34s 690ms/step - loss: 0.5432\n",
            "Epoch 3/5\n",
            "50/50 [==============================] - 35s 704ms/step - loss: 0.5450\n",
            "Epoch 4/5\n",
            "50/50 [==============================] - 36s 712ms/step - loss: 0.5431\n",
            "Epoch 5/5\n",
            "50/50 [==============================] - 36s 711ms/step - loss: 0.5422\n"
          ],
          "name": "stdout"
        },
        {
          "output_type": "execute_result",
          "data": {
            "text/plain": [
              "<tensorflow.python.keras.callbacks.History at 0x7f4277cec908>"
            ]
          },
          "metadata": {
            "tags": []
          },
          "execution_count": 10
        }
      ]
    },
    {
      "cell_type": "code",
      "metadata": {
        "id": "1xfaVnCbE1d8",
        "colab_type": "code",
        "colab": {}
      },
      "source": [
        "from matplotlib.patches import Rectangle\n",
        "ref_size = IMAGE_SIZE[0]\n",
        "\n",
        "def make_prediction():\n",
        "  # to make charmander bigger or smaller\n",
        "  scale = 0.5 + np.random.random() #[0.5, 1.5]\n",
        "  new_h = int(ch_h * scale)\n",
        "  new_w = int(ch_w * scale)\n",
        "  if np.random.random() < 0.5:\n",
        "    ch_temp_image = np.fliplr(ch_image)\n",
        "  else:\n",
        "    ch_temp_image = ch_image\n",
        "  new_ch_img = resize(ch_temp_image, (new_h, new_w), \n",
        "                            preserve_range=True).astype(np.uint8)\n",
        "  row0 = np.random.randint(0, ref_size - new_h)\n",
        "  col0 = np.random.randint(0, ref_size - new_w)\n",
        "  row1 = row0 + new_h\n",
        "  col1 = col0 + new_w\n",
        "  x = np.zeros(IMAGE_SIZE)\n",
        "  x[row0:row1, col0:col1, :] = new_ch_img[:,:,:3]\n",
        "\n",
        "  X = np.expand_dims(x, 0)\n",
        "  p = model.predict(X/255.0)[0]\n",
        "  print((p[0]*ref_size, p[1]*ref_size, p[2]*ref_size, p[3]*ref_size))\n",
        "  fig, ax = plt.subplots(1)\n",
        "  ax.imshow(x.astype(np.uint8))\n",
        "  rect = Rectangle((p[1]*ref_size, p[0]*ref_size), \n",
        "                   p[2]*ref_size, p[3]*ref_size, \n",
        "                   linewidth=1,edgecolor='r',facecolor='none')\n",
        "  ax.add_patch(rect)\n",
        "  plt.show()"
      ],
      "execution_count": 0,
      "outputs": []
    },
    {
      "cell_type": "code",
      "metadata": {
        "id": "NcxZAdzxHluR",
        "colab_type": "code",
        "outputId": "1791a344-e602-4299-b7a4-7366765fb0e8",
        "colab": {
          "base_uri": "https://localhost:8080/",
          "height": 287
        }
      },
      "source": [
        "make_prediction()"
      ],
      "execution_count": 0,
      "outputs": [
        {
          "output_type": "stream",
          "text": [
            "(102.08652019500732, 129.98167276382446, 28.74906361103058, 36.3438755273819)\n"
          ],
          "name": "stdout"
        },
        {
          "output_type": "display_data",
          "data": {
            "image/png": "[encoded data removed]",
            "text/plain": [
              "<Figure size 432x288 with 1 Axes>"
            ]
          },
          "metadata": {
            "tags": []
          }
        }
      ]
    }
  ]
}