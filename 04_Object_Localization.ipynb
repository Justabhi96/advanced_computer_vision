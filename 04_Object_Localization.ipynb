{
  "nbformat": 4,
  "nbformat_minor": 0,
  "metadata": {
    "colab": {
      "name": "Advanced Computer Vision - 4.Object Localization.ipynb",
      "provenance": [],
      "collapsed_sections": [],
      "authorship_tag": "ABX9TyOBGvH9V2uomTLW/FCsIyc+",
      "include_colab_link": true
    },
    "kernelspec": {
      "name": "python3",
      "display_name": "Python 3"
    },
    "accelerator": "GPU"
  },
  "cells": [
    {
      "cell_type": "markdown",
      "metadata": {
        "id": "view-in-github",
        "colab_type": "text"
      },
      "source": [
        "<a href=\"https://colab.research.google.com/github/Justabhi96/advanced_computer_vision/blob/master/04_Object_Localization.ipynb\" target=\"_parent\"><img src=\"https://colab.research.google.com/assets/colab-badge.svg\" alt=\"Open In Colab\"/></a>"
      ]
    },
    {
      "cell_type": "code",
      "metadata": {
        "id": "b7xKBYMoyinH",
        "colab_type": "code",
        "outputId": "92e11624-3865-4f64-e41f-14b77ede517c",
        "colab": {
          "base_uri": "https://localhost:8080/",
          "height": 121
        }
      },
      "source": [
        "# Install TensorFlow\n",
        "# !pip install -q tensorflow-gpu==2.0.0\n",
        "\n",
        "try:\n",
        "  %tensorflow_version 2.x  # Colab only.\n",
        "except Exception:\n",
        "  pass\n",
        "\n",
        "import tensorflow as tf\n",
        "print(tf.__version__)"
      ],
      "execution_count": 0,
      "outputs": [
        {
          "output_type": "stream",
          "text": [
            "`%tensorflow_version` only switches the major version: `1.x` or `2.x`.\n",
            "You set: `2.x  # Colab only.`. This will be interpreted as: `2.x`.\n",
            "\n",
            "\n",
            "TensorFlow 2.x selected.\n",
            "2.1.0\n"
          ],
          "name": "stdout"
        }
      ]
    },
    {
      "cell_type": "code",
      "metadata": {
        "id": "xlFf-gA1zGJ3",
        "colab_type": "code",
        "colab": {}
      },
      "source": [
        "import numpy as np\n",
        "import matplotlib.pyplot as plt\n",
        "import tensorflow as tf\n",
        "from tensorflow.keras.layers import Flatten, Dense\n",
        "from tensorflow.keras.models import Model\n",
        "from tensorflow.keras.applications import VGG16\n",
        "from tensorflow.keras.optimizers import Adam, RMSprop, SGD"
      ],
      "execution_count": 0,
      "outputs": []
    },
    {
      "cell_type": "code",
      "metadata": {
        "id": "Ctq4GD-j3SGl",
        "colab_type": "code",
        "colab": {}
      },
      "source": [
        "IMAGE_SIZE = [100, 100, 3]"
      ],
      "execution_count": 0,
      "outputs": []
    },
    {
      "cell_type": "code",
      "metadata": {
        "id": "NHY-UFAV1HuT",
        "colab_type": "code",
        "colab": {}
      },
      "source": [
        "vgg = VGG16(input_shape = IMAGE_SIZE, weights = \"imagenet\", include_top = False)\n",
        "\n",
        "x = Flatten()(vgg.output)\n",
        "x = Dense(4, activation = \"sigmoid\")(x)\n",
        "model = Model(vgg.input, x)"
      ],
      "execution_count": 0,
      "outputs": []
    },
    {
      "cell_type": "code",
      "metadata": {
        "id": "2-WigyGSz9oE",
        "colab_type": "code",
        "colab": {}
      },
      "source": [
        "def image_generator(batch_size=64):\n",
        "  # generate image and targets\n",
        "  while True:\n",
        "    # Each epoch will have 50 batches. Why? No reason\n",
        "    for _ in range(50):\n",
        "      X = np.zeros([batch_size] + IMAGE_SIZE)\n",
        "      Y = np.zeros([batch_size, 4])\n",
        "\n",
        "      for i in range(batch_size):\n",
        "        row0 = np.random.randint(0, 90)\n",
        "        col0 = np.random.randint(0, 90)\n",
        "        row1 = np.random.randint(row0, 100)\n",
        "        col1 = np.random.randint(col0, 100)\n",
        "\n",
        "        X[i, row0:row1, col0:col1, :] = 1\n",
        "        Y[i, 0] = row0/100\n",
        "        Y[i, 1] = col0/100\n",
        "        Y[i, 2] = (col1-col0)/100\n",
        "        Y[i, 3] = (row1-row0)/100\n",
        "\n",
        "      yield X, Y"
      ],
      "execution_count": 0,
      "outputs": []
    },
    {
      "cell_type": "code",
      "metadata": {
        "id": "nj3wQVJ67AUH",
        "colab_type": "code",
        "outputId": "5b0be49d-1578-4701-c13a-482c4a0214f2",
        "colab": {
          "base_uri": "https://localhost:8080/",
          "height": 360
        }
      },
      "source": [
        "model.compile(optimizer=Adam(lr = 0.001), loss = \"binary_crossentropy\")\n",
        "model.fit_generator(image_generator(), epochs = 5, steps_per_epoch=50)"
      ],
      "execution_count": 0,
      "outputs": [
        {
          "output_type": "stream",
          "text": [
            "WARNING:tensorflow:From <ipython-input-17-208868a58659>:2: Model.fit_generator (from tensorflow.python.keras.engine.training) is deprecated and will be removed in a future version.\n",
            "Instructions for updating:\n",
            "Please use Model.fit, which supports generators.\n",
            "WARNING:tensorflow:sample_weight modes were coerced from\n",
            "  ...\n",
            "    to  \n",
            "  ['...']\n",
            "Train for 50 steps\n",
            "Epoch 1/5\n",
            "50/50 [==============================] - 20s 403ms/step - loss: 0.6140\n",
            "Epoch 2/5\n",
            "50/50 [==============================] - 10s 192ms/step - loss: 0.5164\n",
            "Epoch 3/5\n",
            "50/50 [==============================] - 10s 193ms/step - loss: 0.5087\n",
            "Epoch 4/5\n",
            "50/50 [==============================] - 10s 196ms/step - loss: 0.5065\n",
            "Epoch 5/5\n",
            "50/50 [==============================] - 10s 198ms/step - loss: 0.5066\n"
          ],
          "name": "stdout"
        },
        {
          "output_type": "execute_result",
          "data": {
            "text/plain": [
              "<tensorflow.python.keras.callbacks.History at 0x7fee80056518>"
            ]
          },
          "metadata": {
            "tags": []
          },
          "execution_count": 17
        }
      ]
    },
    {
      "cell_type": "code",
      "metadata": {
        "id": "1xfaVnCbE1d8",
        "colab_type": "code",
        "colab": {}
      },
      "source": [
        "from matplotlib.patches import Rectangle\n",
        "def make_prediction():\n",
        "  row0 = np.random.randint(0, 90)\n",
        "  col0 = np.random.randint(0, 90)\n",
        "  row1 = np.random.randint(row0+10, 100)\n",
        "  col1 = np.random.randint(col0+10, 100)\n",
        "  print((row0, col0, col1-col0, row1-row0))\n",
        "  x = np.zeros(IMAGE_SIZE)\n",
        "  x[row0:row1, col0:col1, :] = 1\n",
        "\n",
        "  X = np.expand_dims(x, 0)\n",
        "  p = model.predict(X)[0]\n",
        "  print((p[0]*100, p[1]*100, p[2]*100, p[3]*100))\n",
        "  fig, ax = plt.subplots(1)\n",
        "  ax.imshow(x)\n",
        "  rect = Rectangle((p[1]*100, p[0]*100), p[2]*100, p[3]*100, linewidth=1,edgecolor='r',facecolor='none')\n",
        "  ax.add_patch(rect)\n",
        "  plt.show()"
      ],
      "execution_count": 0,
      "outputs": []
    },
    {
      "cell_type": "code",
      "metadata": {
        "id": "NcxZAdzxHluR",
        "colab_type": "code",
        "outputId": "7c17d74c-1d3f-4b96-a282-1e032df5576b",
        "colab": {
          "base_uri": "https://localhost:8080/",
          "height": 302
        }
      },
      "source": [
        "make_prediction()"
      ],
      "execution_count": 0,
      "outputs": [
        {
          "output_type": "stream",
          "text": [
            "(68, 3, 48, 18)\n",
            "(67.07757115364075, 3.6056265234947205, 48.742592334747314, 21.021367609500885)\n"
          ],
          "name": "stdout"
        },
        {
          "output_type": "display_data",
          "data": {
            "image/png": "[encoded data removed]",
            "text/plain": [
              "<Figure size 432x288 with 1 Axes>"
            ]
          },
          "metadata": {
            "tags": []
          }
        }
      ]
    }
  ]
}