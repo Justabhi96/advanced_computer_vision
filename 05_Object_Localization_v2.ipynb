{
  "nbformat": 4,
  "nbformat_minor": 0,
  "metadata": {
    "colab": {
      "name": "Advanced Computer Vision - 5.Object Localization v2.ipynb",
      "provenance": [],
      "collapsed_sections": [],
      "authorship_tag": "ABX9TyNic2TiYH9VzOytlXyUvCXS",
      "include_colab_link": true
    },
    "kernelspec": {
      "name": "python3",
      "display_name": "Python 3"
    },
    "accelerator": "GPU"
  },
  "cells": [
    {
      "cell_type": "markdown",
      "metadata": {
        "id": "view-in-github",
        "colab_type": "text"
      },
      "source": [
        "<a href=\"https://colab.research.google.com/github/Justabhi96/advanced_computer_vision/blob/master/05_Object_Localization_v2.ipynb\" target=\"_parent\"><img src=\"https://colab.research.google.com/assets/colab-badge.svg\" alt=\"Open In Colab\"/></a>"
      ]
    },
    {
      "cell_type": "markdown",
      "metadata": {
        "id": "NbnOyyxTED7I",
        "colab_type": "text"
      },
      "source": [
        "# Add pokemon instead of white patch"
      ]
    },
    {
      "cell_type": "code",
      "metadata": {
        "id": "b7xKBYMoyinH",
        "colab_type": "code",
        "outputId": "a81d42f7-2427-4e7e-e6bd-a4715ad1b6e8",
        "colab": {
          "base_uri": "https://localhost:8080/",
          "height": 121
        }
      },
      "source": [
        "# Install TensorFlow\n",
        "# !pip install -q tensorflow-gpu==2.0.0\n",
        "\n",
        "try:\n",
        "  %tensorflow_version 2.x  # Colab only.\n",
        "except Exception:\n",
        "  pass\n",
        "\n",
        "import tensorflow as tf\n",
        "print(tf.__version__)"
      ],
      "execution_count": 0,
      "outputs": [
        {
          "output_type": "stream",
          "text": [
            "`%tensorflow_version` only switches the major version: `1.x` or `2.x`.\n",
            "You set: `2.x  # Colab only.`. This will be interpreted as: `2.x`.\n",
            "\n",
            "\n",
            "TensorFlow 2.x selected.\n",
            "2.1.0\n"
          ],
          "name": "stdout"
        }
      ]
    },
    {
      "cell_type": "code",
      "metadata": {
        "id": "EbkC-Yok73qJ",
        "colab_type": "code",
        "outputId": "eb755ac2-9f4a-4a57-9bce-e1dfb2968076",
        "colab": {
          "base_uri": "https://localhost:8080/",
          "height": 208
        }
      },
      "source": [
        "!wget -nc https://lazyprogrammer.me/course_files/charmander-tight.png"
      ],
      "execution_count": 0,
      "outputs": [
        {
          "output_type": "stream",
          "text": [
            "--2020-02-09 18:32:07--  https://lazyprogrammer.me/course_files/charmander-tight.png\n",
            "Resolving lazyprogrammer.me (lazyprogrammer.me)... 104.31.80.48, 104.31.81.48, 2606:4700:3037::681f:5030, ...\n",
            "Connecting to lazyprogrammer.me (lazyprogrammer.me)|104.31.80.48|:443... connected.\n",
            "HTTP request sent, awaiting response... 200 OK\n",
            "Length: 3952 (3.9K) [image/png]\n",
            "Saving to: ‘charmander-tight.png’\n",
            "\n",
            "charmander-tight.pn 100%[===================>]   3.86K  --.-KB/s    in 0s      \n",
            "\n",
            "2020-02-09 18:32:12 (83.4 MB/s) - ‘charmander-tight.png’ saved [3952/3952]\n",
            "\n"
          ],
          "name": "stdout"
        }
      ]
    },
    {
      "cell_type": "code",
      "metadata": {
        "id": "xlFf-gA1zGJ3",
        "colab_type": "code",
        "colab": {}
      },
      "source": [
        "import numpy as np\n",
        "import matplotlib.pyplot as plt\n",
        "import tensorflow as tf\n",
        "from tensorflow.keras.layers import Flatten, Dense\n",
        "from tensorflow.keras.models import Model\n",
        "from tensorflow.keras.applications import VGG16\n",
        "from tensorflow.keras.optimizers import Adam, RMSprop, SGD\n",
        "from tensorflow.keras.preprocessing import image"
      ],
      "execution_count": 0,
      "outputs": []
    },
    {
      "cell_type": "code",
      "metadata": {
        "id": "Ctq4GD-j3SGl",
        "colab_type": "code",
        "colab": {}
      },
      "source": [
        "IMAGE_SIZE = [100, 100, 3]"
      ],
      "execution_count": 0,
      "outputs": []
    },
    {
      "cell_type": "code",
      "metadata": {
        "id": "NHY-UFAV1HuT",
        "colab_type": "code",
        "outputId": "3d613d8a-94dd-4b16-e8f8-8b1f47e363c5",
        "colab": {
          "base_uri": "https://localhost:8080/",
          "height": 52
        }
      },
      "source": [
        "vgg = VGG16(input_shape = IMAGE_SIZE, weights = \"imagenet\", include_top = False)\n",
        "\n",
        "x = Flatten()(vgg.output)\n",
        "x = Dense(4, activation = \"sigmoid\")(x)\n",
        "model = Model(vgg.input, x)"
      ],
      "execution_count": 0,
      "outputs": [
        {
          "output_type": "stream",
          "text": [
            "Downloading data from https://github.com/fchollet/deep-learning-models/releases/download/v0.1/vgg16_weights_tf_dim_ordering_tf_kernels_notop.h5\n",
            "58892288/58889256 [==============================] - 1s 0us/step\n"
          ],
          "name": "stdout"
        }
      ]
    },
    {
      "cell_type": "code",
      "metadata": {
        "id": "ZPaC2yHg8c4t",
        "colab_type": "code",
        "outputId": "d15421dc-36eb-4026-b1b1-38227738dc91",
        "colab": {
          "base_uri": "https://localhost:8080/",
          "height": 285
        }
      },
      "source": [
        "ch_image = image.load_img(\"charmander-tight.png\")\n",
        "plt.imshow(ch_image)"
      ],
      "execution_count": 0,
      "outputs": [
        {
          "output_type": "execute_result",
          "data": {
            "text/plain": [
              "<matplotlib.image.AxesImage at 0x7f1800121d30>"
            ]
          },
          "metadata": {
            "tags": []
          },
          "execution_count": 6
        },
        {
          "output_type": "display_data",
          "data": {
            "image/png": "[encoded data removed]",
            "text/plain": [
              "<Figure size 432x288 with 1 Axes>"
            ]
          },
          "metadata": {
            "tags": []
          }
        }
      ]
    },
    {
      "cell_type": "code",
      "metadata": {
        "id": "e0mZdrGY-HEk",
        "colab_type": "code",
        "outputId": "9d9bd7d3-256a-47fd-87e7-c708733d14a4",
        "colab": {
          "base_uri": "https://localhost:8080/",
          "height": 35
        }
      },
      "source": [
        "ch_w = ch_image.width\n",
        "ch_h = ch_image.height\n",
        "ch_w, ch_h"
      ],
      "execution_count": 0,
      "outputs": [
        {
          "output_type": "execute_result",
          "data": {
            "text/plain": [
              "(44, 56)"
            ]
          },
          "metadata": {
            "tags": []
          },
          "execution_count": 7
        }
      ]
    },
    {
      "cell_type": "code",
      "metadata": {
        "id": "2-WigyGSz9oE",
        "colab_type": "code",
        "colab": {}
      },
      "source": [
        "def image_generator(batch_size=64):\n",
        "  # generate image and targets\n",
        "  while True:\n",
        "    # Each epoch will have 50 batches. Why? No reason\n",
        "    for _ in range(50):\n",
        "      X = np.zeros([batch_size] + IMAGE_SIZE)\n",
        "      Y = np.zeros([batch_size, 4])\n",
        "\n",
        "      for i in range(batch_size):\n",
        "        row0 = np.random.randint(0, 100 - ch_h)\n",
        "        col0 = np.random.randint(0, 100 - ch_w)\n",
        "        row1 = row0 + ch_h\n",
        "        col1 = col0 + ch_w\n",
        "\n",
        "        X[i, row0:row1, col0:col1, :] = ch_image\n",
        "        Y[i, 0] = row0/100\n",
        "        Y[i, 1] = col0/100\n",
        "        Y[i, 2] = (col1-col0)/100\n",
        "        Y[i, 3] = (row1-row0)/100\n",
        "\n",
        "      yield X/255.0, Y"
      ],
      "execution_count": 0,
      "outputs": []
    },
    {
      "cell_type": "code",
      "metadata": {
        "id": "nj3wQVJ67AUH",
        "colab_type": "code",
        "outputId": "098a3cd4-01b1-45a0-fb53-534b496affb6",
        "colab": {
          "base_uri": "https://localhost:8080/",
          "height": 367
        }
      },
      "source": [
        "model.compile(optimizer=Adam(lr = 0.001), loss = \"binary_crossentropy\")\n",
        "model.fit_generator(image_generator(), epochs = 5, steps_per_epoch=50)"
      ],
      "execution_count": 0,
      "outputs": [
        {
          "output_type": "stream",
          "text": [
            "WARNING:tensorflow:From <ipython-input-9-208868a58659>:2: Model.fit_generator (from tensorflow.python.keras.engine.training) is deprecated and will be removed in a future version.\n",
            "Instructions for updating:\n",
            "Please use Model.fit, which supports generators.\n",
            "WARNING:tensorflow:sample_weight modes were coerced from\n",
            "  ...\n",
            "    to  \n",
            "  ['...']\n",
            "Train for 50 steps\n",
            "Epoch 1/5\n",
            "50/50 [==============================] - 20s 394ms/step - loss: 0.8543\n",
            "Epoch 2/5\n",
            "50/50 [==============================] - 9s 185ms/step - loss: 0.5896\n",
            "Epoch 3/5\n",
            "50/50 [==============================] - 9s 185ms/step - loss: 0.5884\n",
            "Epoch 4/5\n",
            "50/50 [==============================] - 9s 187ms/step - loss: 0.5894\n",
            "Epoch 5/5\n",
            "50/50 [==============================] - 9s 187ms/step - loss: 0.5874\n"
          ],
          "name": "stdout"
        },
        {
          "output_type": "execute_result",
          "data": {
            "text/plain": [
              "<tensorflow.python.keras.callbacks.History at 0x7f180007b7f0>"
            ]
          },
          "metadata": {
            "tags": []
          },
          "execution_count": 9
        }
      ]
    },
    {
      "cell_type": "code",
      "metadata": {
        "id": "1xfaVnCbE1d8",
        "colab_type": "code",
        "colab": {}
      },
      "source": [
        "from matplotlib.patches import Rectangle\n",
        "def make_prediction():\n",
        "  row0 = np.random.randint(0, 100 - ch_h)\n",
        "  col0 = np.random.randint(0, 100 - ch_w)\n",
        "  row1 = row0 + ch_h\n",
        "  col1 = col0 + ch_w\n",
        "  x = np.zeros(IMAGE_SIZE)\n",
        "  x[row0:row1, col0:col1, :] = ch_image\n",
        "\n",
        "  X = np.expand_dims(x, 0)\n",
        "  p = model.predict(X/255.0)[0]\n",
        "  print((p[0]*100, p[1]*100, p[2]*100, p[3]*100))\n",
        "  fig, ax = plt.subplots(1)\n",
        "  ax.imshow(x.astype(np.uint8))\n",
        "  rect = Rectangle((p[1]*100, p[0]*100), p[2]*100, p[3]*100, linewidth=1,edgecolor='r',facecolor='none')\n",
        "  ax.add_patch(rect)\n",
        "  plt.show()"
      ],
      "execution_count": 0,
      "outputs": []
    },
    {
      "cell_type": "code",
      "metadata": {
        "id": "NcxZAdzxHluR",
        "colab_type": "code",
        "outputId": "eccdf842-8a2f-46a4-bf4c-4b388a22f76f",
        "colab": {
          "base_uri": "https://localhost:8080/",
          "height": 285
        }
      },
      "source": [
        "make_prediction()"
      ],
      "execution_count": 0,
      "outputs": [
        {
          "output_type": "stream",
          "text": [
            "(14.719332754611969, 0.4526570439338684, 44.304561614990234, 56.1423659324646)\n"
          ],
          "name": "stdout"
        },
        {
          "output_type": "display_data",
          "data": {
            "image/png": "[encoded data removed]",
            "text/plain": [
              "<Figure size 432x288 with 1 Axes>"
            ]
          },
          "metadata": {
            "tags": []
          }
        }
      ]
    }
  ]
}