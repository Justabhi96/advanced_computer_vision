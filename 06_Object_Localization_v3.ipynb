{
  "nbformat": 4,
  "nbformat_minor": 0,
  "metadata": {
    "colab": {
      "name": "Advanced Computer Vision - 6.Object Localization v3.ipynb",
      "provenance": [],
      "collapsed_sections": [],
      "authorship_tag": "ABX9TyONhFoIMoQlhtdOP1RNa7ZF",
      "include_colab_link": true
    },
    "kernelspec": {
      "name": "python3",
      "display_name": "Python 3"
    },
    "accelerator": "GPU"
  },
  "cells": [
    {
      "cell_type": "markdown",
      "metadata": {
        "id": "view-in-github",
        "colab_type": "text"
      },
      "source": [
        "<a href=\"https://colab.research.google.com/github/Justabhi96/advanced_computer_vision/blob/master/06_Object_Localization_v3.ipynb\" target=\"_parent\"><img src=\"https://colab.research.google.com/assets/colab-badge.svg\" alt=\"Open In Colab\"/></a>"
      ]
    },
    {
      "cell_type": "markdown",
      "metadata": {
        "id": "L-NdkLOCD-iS",
        "colab_type": "text"
      },
      "source": [
        "# Make the pokemon of different sizes"
      ]
    },
    {
      "cell_type": "code",
      "metadata": {
        "id": "b7xKBYMoyinH",
        "colab_type": "code",
        "outputId": "3dbd80f6-15de-45bf-a285-b016dc128d30",
        "colab": {
          "base_uri": "https://localhost:8080/",
          "height": 121
        }
      },
      "source": [
        "# Install TensorFlow\n",
        "# !pip install -q tensorflow-gpu==2.0.0\n",
        "\n",
        "try:\n",
        "  %tensorflow_version 2.x  # Colab only.\n",
        "except Exception:\n",
        "  pass\n",
        "\n",
        "import tensorflow as tf\n",
        "print(tf.__version__)"
      ],
      "execution_count": 0,
      "outputs": [
        {
          "output_type": "stream",
          "text": [
            "`%tensorflow_version` only switches the major version: `1.x` or `2.x`.\n",
            "You set: `2.x  # Colab only.`. This will be interpreted as: `2.x`.\n",
            "\n",
            "\n",
            "TensorFlow is already loaded. Please restart the runtime to change versions.\n",
            "2.1.0\n"
          ],
          "name": "stdout"
        }
      ]
    },
    {
      "cell_type": "code",
      "metadata": {
        "id": "EbkC-Yok73qJ",
        "colab_type": "code",
        "outputId": "269431aa-9b48-4f50-c52d-bf06801796c8",
        "colab": {
          "base_uri": "https://localhost:8080/",
          "height": 52
        }
      },
      "source": [
        "!wget -nc https://lazyprogrammer.me/course_files/charmander-tight.png"
      ],
      "execution_count": 0,
      "outputs": [
        {
          "output_type": "stream",
          "text": [
            "File ‘charmander-tight.png’ already there; not retrieving.\n",
            "\n"
          ],
          "name": "stdout"
        }
      ]
    },
    {
      "cell_type": "code",
      "metadata": {
        "id": "xlFf-gA1zGJ3",
        "colab_type": "code",
        "colab": {}
      },
      "source": [
        "import numpy as np\n",
        "import matplotlib.pyplot as plt\n",
        "import tensorflow as tf\n",
        "import imageio\n",
        "from tensorflow.keras.layers import Flatten, Dense\n",
        "from tensorflow.keras.models import Model\n",
        "from tensorflow.keras.applications import VGG16\n",
        "from tensorflow.keras.optimizers import Adam, RMSprop, SGD\n",
        "from tensorflow.keras.preprocessing import image"
      ],
      "execution_count": 0,
      "outputs": []
    },
    {
      "cell_type": "code",
      "metadata": {
        "id": "Ctq4GD-j3SGl",
        "colab_type": "code",
        "colab": {}
      },
      "source": [
        "IMAGE_SIZE = [200, 200, 3]"
      ],
      "execution_count": 0,
      "outputs": []
    },
    {
      "cell_type": "code",
      "metadata": {
        "id": "NHY-UFAV1HuT",
        "colab_type": "code",
        "colab": {}
      },
      "source": [
        "vgg = VGG16(input_shape = IMAGE_SIZE, weights = \"imagenet\", include_top = False)\n",
        "\n",
        "x = Flatten()(vgg.output)\n",
        "x = Dense(4, activation = \"sigmoid\")(x)\n",
        "model = Model(vgg.input, x)"
      ],
      "execution_count": 0,
      "outputs": []
    },
    {
      "cell_type": "code",
      "metadata": {
        "id": "ZPaC2yHg8c4t",
        "colab_type": "code",
        "outputId": "17b88d62-8282-4cad-e302-455615d2a261",
        "colab": {
          "base_uri": "https://localhost:8080/",
          "height": 285
        }
      },
      "source": [
        "ch_image = imageio.imread(\"charmander-tight.png\")\n",
        "plt.imshow(ch_image)"
      ],
      "execution_count": 0,
      "outputs": [
        {
          "output_type": "execute_result",
          "data": {
            "text/plain": [
              "<matplotlib.image.AxesImage at 0x7fcf0da05f60>"
            ]
          },
          "metadata": {
            "tags": []
          },
          "execution_count": 53
        },
        {
          "output_type": "display_data",
          "data": {
            "image/png": "[encoded data removed]",
            "text/plain": [
              "<Figure size 432x288 with 1 Axes>"
            ]
          },
          "metadata": {
            "tags": []
          }
        }
      ]
    },
    {
      "cell_type": "code",
      "metadata": {
        "id": "e0mZdrGY-HEk",
        "colab_type": "code",
        "outputId": "d79e01c2-37a9-4f9d-d62a-19dca77ab562",
        "colab": {
          "base_uri": "https://localhost:8080/",
          "height": 35
        }
      },
      "source": [
        "ch_image = np.array(ch_image)\n",
        "ch_h, ch_w, _ = ch_image.shape\n",
        "ch_h, ch_w"
      ],
      "execution_count": 0,
      "outputs": [
        {
          "output_type": "execute_result",
          "data": {
            "text/plain": [
              "(56, 44)"
            ]
          },
          "metadata": {
            "tags": []
          },
          "execution_count": 54
        }
      ]
    },
    {
      "cell_type": "code",
      "metadata": {
        "id": "2-WigyGSz9oE",
        "colab_type": "code",
        "colab": {}
      },
      "source": [
        "from skimage.transform import resize\n",
        "import cv2\n",
        "\n",
        "def image_generator(batch_size=64):\n",
        "  # generate image and targets\n",
        "  while True:\n",
        "    # Each epoch will have 50 batches. Why? No reason\n",
        "    for _ in range(50):\n",
        "      X = np.zeros([batch_size] + IMAGE_SIZE)\n",
        "      Y = np.zeros([batch_size, 4])\n",
        "\n",
        "      for i in range(batch_size):\n",
        "        # to make charmander bigger or smaller\n",
        "        scale = 0.5 + np.random.random() #[0.5, 1.5]\n",
        "        new_h = int(ch_h * scale)\n",
        "        new_w = int(ch_w * scale)\n",
        "        new_ch_img = resize(ch_image, (new_h, new_w), \n",
        "                            preserve_range=True).astype(np.uint8) # to keep the range 0 - 255\n",
        "        row0 = np.random.randint(0, IMAGE_SIZE[0] - new_h)\n",
        "        col0 = np.random.randint(0, IMAGE_SIZE[0] - new_w)\n",
        "        row1 = row0 + new_h\n",
        "        col1 = col0 + new_w\n",
        "\n",
        "        X[i, row0:row1, col0:col1, :] = new_ch_img[:,:,:3]\n",
        "        Y[i, 0] = row0/IMAGE_SIZE[0]\n",
        "        Y[i, 1] = col0/IMAGE_SIZE[0]\n",
        "        Y[i, 2] = (col1-col0)/IMAGE_SIZE[0]\n",
        "        Y[i, 3] = (row1-row0)/IMAGE_SIZE[0]\n",
        "\n",
        "      yield X/255.0, Y"
      ],
      "execution_count": 0,
      "outputs": []
    },
    {
      "cell_type": "code",
      "metadata": {
        "id": "nj3wQVJ67AUH",
        "colab_type": "code",
        "outputId": "2063103b-e2fa-448f-e341-9563be0dc9ab",
        "colab": {
          "base_uri": "https://localhost:8080/",
          "height": 295
        }
      },
      "source": [
        "# Notice learning rate is 10th of previous netebook\n",
        "model.compile(optimizer=Adam(lr = 0.0001), loss = \"binary_crossentropy\")\n",
        "model.fit_generator(image_generator(), epochs = 5, steps_per_epoch=50)"
      ],
      "execution_count": 0,
      "outputs": [
        {
          "output_type": "stream",
          "text": [
            "WARNING:tensorflow:sample_weight modes were coerced from\n",
            "  ...\n",
            "    to  \n",
            "  ['...']\n",
            "Train for 50 steps\n",
            "Epoch 1/5\n",
            "50/50 [==============================] - 28s 569ms/step - loss: 0.5542\n",
            "Epoch 2/5\n",
            "50/50 [==============================] - 19s 374ms/step - loss: 0.5468\n",
            "Epoch 3/5\n",
            "50/50 [==============================] - 19s 374ms/step - loss: 0.5438\n",
            "Epoch 4/5\n",
            "50/50 [==============================] - 19s 378ms/step - loss: 0.5426\n",
            "Epoch 5/5\n",
            "50/50 [==============================] - 19s 375ms/step - loss: 0.5458\n"
          ],
          "name": "stdout"
        },
        {
          "output_type": "execute_result",
          "data": {
            "text/plain": [
              "<tensorflow.python.keras.callbacks.History at 0x7fcf0d97cf98>"
            ]
          },
          "metadata": {
            "tags": []
          },
          "execution_count": 56
        }
      ]
    },
    {
      "cell_type": "code",
      "metadata": {
        "id": "1xfaVnCbE1d8",
        "colab_type": "code",
        "colab": {}
      },
      "source": [
        "from matplotlib.patches import Rectangle\n",
        "ref_size = IMAGE_SIZE[0]\n",
        "\n",
        "def make_prediction():\n",
        "  # to make charmander bigger or smaller\n",
        "  scale = 0.5 + np.random.random() #[0.5, 1.5]\n",
        "  new_h = int(ch_h * scale)\n",
        "  new_w = int(ch_w * scale)\n",
        "  new_ch_img = resize(ch_image, (new_h, new_w), \n",
        "                      preserve_range=True).astype(np.uint8) # to keep the range 0 - 255\n",
        "  row0 = np.random.randint(0, ref_size - new_h)\n",
        "  col0 = np.random.randint(0, ref_size - new_w)\n",
        "  row1 = row0 + new_h\n",
        "  col1 = col0 + new_w\n",
        "  x = np.zeros(IMAGE_SIZE)\n",
        "  x[row0:row1, col0:col1, :] = new_ch_img[:,:,:3]\n",
        "\n",
        "  X = np.expand_dims(x, 0)\n",
        "  p = model.predict(X/255.0)[0]\n",
        "  print((p[0]*ref_size, p[1]*ref_size, p[2]*ref_size, p[3]*ref_size))\n",
        "  fig, ax = plt.subplots(1)\n",
        "  ax.imshow(x.astype(np.uint8))\n",
        "  rect = Rectangle((p[1]*ref_size, p[0]*ref_size), \n",
        "                   p[2]*ref_size, p[3]*ref_size, \n",
        "                   linewidth=1,edgecolor='r',facecolor='none')\n",
        "  ax.add_patch(rect)\n",
        "  plt.show()"
      ],
      "execution_count": 0,
      "outputs": []
    },
    {
      "cell_type": "code",
      "metadata": {
        "id": "NcxZAdzxHluR",
        "colab_type": "code",
        "outputId": "a5cbb1ed-281f-4c5a-de7f-550a1778f3ca",
        "colab": {
          "base_uri": "https://localhost:8080/",
          "height": 287
        }
      },
      "source": [
        "make_prediction()"
      ],
      "execution_count": 0,
      "outputs": [
        {
          "output_type": "stream",
          "text": [
            "(98.2366681098938, 134.2366337776184, 53.61202359199524, 67.91821122169495)\n"
          ],
          "name": "stdout"
        },
        {
          "output_type": "display_data",
          "data": {
            "image/png": "[encoded data removed]",
            "text/plain": [
              "<Figure size 432x288 with 1 Axes>"
            ]
          },
          "metadata": {
            "tags": []
          }
        }
      ]
    }
  ]
}