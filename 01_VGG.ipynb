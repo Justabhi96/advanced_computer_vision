{
  "nbformat": 4,
  "nbformat_minor": 0,
  "metadata": {
    "colab": {
      "name": "Advanced Computer Vision - 1. VGG",
      "provenance": [],
      "collapsed_sections": [],
      "authorship_tag": "ABX9TyOZIXC0FrnIek9aB2slrWjL",
      "include_colab_link": true
    },
    "kernelspec": {
      "name": "python3",
      "display_name": "Python 3"
    },
    "accelerator": "GPU"
  },
  "cells": [
    {
      "cell_type": "markdown",
      "metadata": {
        "id": "view-in-github",
        "colab_type": "text"
      },
      "source": [
        "<a href=\"https://colab.research.google.com/github/Justabhi96/advanced_computer_vision/blob/master/01_VGG.ipynb\" target=\"_parent\"><img src=\"https://colab.research.google.com/assets/colab-badge.svg\" alt=\"Open In Colab\"/></a>"
      ]
    },
    {
      "cell_type": "markdown",
      "metadata": {
        "id": "2MVHUh6qXErd",
        "colab_type": "text"
      },
      "source": [
        "###Download Dataset(Fruits 360)"
      ]
    },
    {
      "cell_type": "code",
      "metadata": {
        "id": "MCPuudScYjXO",
        "colab_type": "code",
        "colab": {}
      },
      "source": [
        "import os\n",
        "import shutil"
      ],
      "execution_count": 0,
      "outputs": []
    },
    {
      "cell_type": "code",
      "metadata": {
        "id": "Supyhpt6iUJ6",
        "colab_type": "code",
        "outputId": "2963a687-0156-4d31-dd2e-0135a5da695b",
        "colab": {
          "base_uri": "https://localhost:8080/",
          "height": 124
        }
      },
      "source": [
        "from google.colab import drive\n",
        "drive.mount('/content/drive')"
      ],
      "execution_count": 0,
      "outputs": [
        {
          "output_type": "stream",
          "text": [
            "Go to this URL in a browser: https://accounts.google.com/o/oauth2/auth?client_id=947318989803-6bn6qk8qdgf4n4g3pfee6491hc0brc4i.apps.googleusercontent.com&redirect_uri=urn%3aietf%3awg%3aoauth%3a2.0%3aoob&response_type=code&scope=email%20https%3a%2f%2fwww.googleapis.com%2fauth%2fdocs.test%20https%3a%2f%2fwww.googleapis.com%2fauth%2fdrive%20https%3a%2f%2fwww.googleapis.com%2fauth%2fdrive.photos.readonly%20https%3a%2f%2fwww.googleapis.com%2fauth%2fpeopleapi.readonly\n",
            "\n",
            "Enter your authorization code:\n",
            "··········\n",
            "Mounted at /content/drive\n"
          ],
          "name": "stdout"
        }
      ]
    },
    {
      "cell_type": "code",
      "metadata": {
        "id": "Tb4YKTKuiY_2",
        "colab_type": "code",
        "outputId": "b6d81258-670d-4d53-a52d-b2bb7dc9ae89",
        "colab": {
          "base_uri": "https://localhost:8080/",
          "height": 35
        }
      },
      "source": [
        "shutil.copyfile(\"drive/My Drive/fruits.zip\", \"fruits.zip\")"
      ],
      "execution_count": 0,
      "outputs": [
        {
          "output_type": "execute_result",
          "data": {
            "text/plain": [
              "'fruits.zip'"
            ]
          },
          "metadata": {
            "tags": []
          },
          "execution_count": 14
        }
      ]
    },
    {
      "cell_type": "code",
      "metadata": {
        "id": "LpiCW50CkZf7",
        "colab_type": "code",
        "colab": {}
      },
      "source": [
        "!unzip -q fruits.zip"
      ],
      "execution_count": 0,
      "outputs": []
    },
    {
      "cell_type": "code",
      "metadata": {
        "id": "GDmhlV9skpVk",
        "colab_type": "code",
        "colab": {}
      },
      "source": [
        "def mkdir(dir_path):\n",
        "  if not os.path.exists(dir_path):\n",
        "    os.mkdir(dir_path)\n",
        "\n",
        "def copy_data(src, dst):\n",
        "  if not os.path.exists(dst):\n",
        "    os.symlink(src, dst, target_is_directory=True)"
      ],
      "execution_count": 0,
      "outputs": []
    },
    {
      "cell_type": "markdown",
      "metadata": {
        "id": "mS5FFGd-mOvj",
        "colab_type": "text"
      },
      "source": [
        "###Create a small data for training"
      ]
    },
    {
      "cell_type": "code",
      "metadata": {
        "id": "NOpuzUninUKz",
        "colab_type": "code",
        "colab": {}
      },
      "source": [
        "subset_classes = [\"Apple Golden 1\", \"Avocado\", \"Lemon\", \"Mango\", \"Banana\", \"Strawberry\"]"
      ],
      "execution_count": 0,
      "outputs": []
    },
    {
      "cell_type": "code",
      "metadata": {
        "id": "ds4hpgeWospQ",
        "colab_type": "code",
        "colab": {}
      },
      "source": [
        "mkdir(\"fruits-360_dataset/fruits-360-small\")"
      ],
      "execution_count": 0,
      "outputs": []
    },
    {
      "cell_type": "code",
      "metadata": {
        "id": "UXrl_P22oXYq",
        "colab_type": "code",
        "colab": {}
      },
      "source": [
        "train_path_from = os.path.abspath('fruits-360_dataset/fruits-360/Training')\n",
        "valid_path_from = os.path.abspath('fruits-360_dataset/fruits-360/Test')\n",
        "\n",
        "train_path_to = os.path.abspath('fruits-360_dataset/fruits-360-small/Training')\n",
        "valid_path_to = os.path.abspath('fruits-360_dataset/fruits-360-small/Test')"
      ],
      "execution_count": 0,
      "outputs": []
    },
    {
      "cell_type": "code",
      "metadata": {
        "id": "Xw-KQxKnopot",
        "colab_type": "code",
        "colab": {}
      },
      "source": [
        "mkdir(train_path_to)\n",
        "mkdir(valid_path_to)"
      ],
      "execution_count": 0,
      "outputs": []
    },
    {
      "cell_type": "code",
      "metadata": {
        "id": "7L5YX3jimAMt",
        "colab_type": "code",
        "colab": {}
      },
      "source": [
        "for fruit_class in subset_classes:\n",
        "  copy_data(f'{train_path_from}/{fruit_class}', f'{train_path_to}/{fruit_class}')\n",
        "  copy_data(f'{valid_path_from}/{fruit_class}', f'{valid_path_to}/{fruit_class}')"
      ],
      "execution_count": 0,
      "outputs": []
    },
    {
      "cell_type": "markdown",
      "metadata": {
        "id": "C-bfqiY8q3YE",
        "colab_type": "text"
      },
      "source": [
        "### Transfer Learning using VGG weights"
      ]
    },
    {
      "cell_type": "code",
      "metadata": {
        "id": "avv5Cq_eq2Ra",
        "colab_type": "code",
        "colab": {}
      },
      "source": [
        "from keras.layers import Dense, Input, Lambda, Flatten\n",
        "from keras.models import Model\n",
        "from keras.applications.vgg16 import VGG16, preprocess_input\n",
        "from keras.preprocessing import image\n",
        "from keras.preprocessing.image import ImageDataGenerator\n",
        "\n",
        "from sklearn.metrics import confusion_matrix\n",
        "import numpy as np\n",
        "import matplotlib.pyplot as plt\n",
        "\n",
        "from glob import glob"
      ],
      "execution_count": 0,
      "outputs": []
    },
    {
      "cell_type": "code",
      "metadata": {
        "id": "QM3KpImBs9yH",
        "colab_type": "code",
        "colab": {}
      },
      "source": [
        "IMAGE_SIZE = [100, 100]"
      ],
      "execution_count": 0,
      "outputs": []
    },
    {
      "cell_type": "code",
      "metadata": {
        "id": "JsLLUI5Sttxr",
        "colab_type": "code",
        "colab": {}
      },
      "source": [
        "train_path = train_path_to\n",
        "test_path = valid_path_to"
      ],
      "execution_count": 0,
      "outputs": []
    },
    {
      "cell_type": "code",
      "metadata": {
        "id": "idmO_ynLvPQ4",
        "colab_type": "code",
        "outputId": "3759a112-be97-44fc-ae11-3b3fd75fd494",
        "colab": {
          "base_uri": "https://localhost:8080/",
          "height": 87
        }
      },
      "source": [
        "train_files = glob(train_path+\"/*/*.jp*g\")\n",
        "test_files = glob(test_path+\"/*/*.jp*g\")\n",
        "\n",
        "classes = glob(train_path+\"/*\")\n",
        "train_files[:4]"
      ],
      "execution_count": 0,
      "outputs": [
        {
          "output_type": "execute_result",
          "data": {
            "text/plain": [
              "['/content/fruits-360_dataset/fruits-360-small/Training/Strawberry/127_100.jpg',\n",
              " '/content/fruits-360_dataset/fruits-360-small/Training/Strawberry/r_254_100.jpg',\n",
              " '/content/fruits-360_dataset/fruits-360-small/Training/Strawberry/123_100.jpg',\n",
              " '/content/fruits-360_dataset/fruits-360-small/Training/Strawberry/r_169_100.jpg']"
            ]
          },
          "metadata": {
            "tags": []
          },
          "execution_count": 47
        }
      ]
    },
    {
      "cell_type": "code",
      "metadata": {
        "id": "l2pPMFhwwfsz",
        "colab_type": "code",
        "outputId": "d6588c35-8f8a-4c28-c45f-ef0984462128",
        "colab": {
          "base_uri": "https://localhost:8080/",
          "height": 285
        }
      },
      "source": [
        "plt.imshow(image.load_img(np.random.choice(train_files)))"
      ],
      "execution_count": 0,
      "outputs": [
        {
          "output_type": "execute_result",
          "data": {
            "text/plain": [
              "<matplotlib.image.AxesImage at 0x7f997eb2ba20>"
            ]
          },
          "metadata": {
            "tags": []
          },
          "execution_count": 44
        },
        {
          "output_type": "display_data",
          "data": {
            "image/png": "[encoded data removed]",
            "text/plain": [
              "<Figure size 432x288 with 1 Axes>"
            ]
          },
          "metadata": {
            "tags": []
          }
        }
      ]
    },
    {
      "cell_type": "code",
      "metadata": {
        "id": "U-WlXL5Mv0Mi",
        "colab_type": "code",
        "outputId": "3fd737d4-eae5-4df9-e4f0-698c09a69c96",
        "colab": {
          "base_uri": "https://localhost:8080/",
          "height": 919
        }
      },
      "source": [
        "vgg = VGG16(input_shape = IMAGE_SIZE+[3], weights = \"imagenet\", include_top = False)\n",
        "\n",
        "# don't train existing weights\n",
        "for layer in vgg.layers:\n",
        "  layer.trainable = False\n",
        "\n",
        "# we can add more layers if we want\n",
        "x = Flatten()(vgg.output)\n",
        "x = Dense(1000, activation = \"relu\")(x)\n",
        "x = Dense(len(classes), activation = \"softmax\")(x)\n",
        "\n",
        "model = Model(inputs = vgg.input, outputs = x)\n",
        "model.summary()"
      ],
      "execution_count": 0,
      "outputs": [
        {
          "output_type": "stream",
          "text": [
            "Model: \"model_4\"\n",
            "_________________________________________________________________\n",
            "Layer (type)                 Output Shape              Param #   \n",
            "=================================================================\n",
            "input_4 (InputLayer)         (None, 100, 100, 3)       0         \n",
            "_________________________________________________________________\n",
            "block1_conv1 (Conv2D)        (None, 100, 100, 64)      1792      \n",
            "_________________________________________________________________\n",
            "block1_conv2 (Conv2D)        (None, 100, 100, 64)      36928     \n",
            "_________________________________________________________________\n",
            "block1_pool (MaxPooling2D)   (None, 50, 50, 64)        0         \n",
            "_________________________________________________________________\n",
            "block2_conv1 (Conv2D)        (None, 50, 50, 128)       73856     \n",
            "_________________________________________________________________\n",
            "block2_conv2 (Conv2D)        (None, 50, 50, 128)       147584    \n",
            "_________________________________________________________________\n",
            "block2_pool (MaxPooling2D)   (None, 25, 25, 128)       0         \n",
            "_________________________________________________________________\n",
            "block3_conv1 (Conv2D)        (None, 25, 25, 256)       295168    \n",
            "_________________________________________________________________\n",
            "block3_conv2 (Conv2D)        (None, 25, 25, 256)       590080    \n",
            "_________________________________________________________________\n",
            "block3_conv3 (Conv2D)        (None, 25, 25, 256)       590080    \n",
            "_________________________________________________________________\n",
            "block3_pool (MaxPooling2D)   (None, 12, 12, 256)       0         \n",
            "_________________________________________________________________\n",
            "block4_conv1 (Conv2D)        (None, 12, 12, 512)       1180160   \n",
            "_________________________________________________________________\n",
            "block4_conv2 (Conv2D)        (None, 12, 12, 512)       2359808   \n",
            "_________________________________________________________________\n",
            "block4_conv3 (Conv2D)        (None, 12, 12, 512)       2359808   \n",
            "_________________________________________________________________\n",
            "block4_pool (MaxPooling2D)   (None, 6, 6, 512)         0         \n",
            "_________________________________________________________________\n",
            "block5_conv1 (Conv2D)        (None, 6, 6, 512)         2359808   \n",
            "_________________________________________________________________\n",
            "block5_conv2 (Conv2D)        (None, 6, 6, 512)         2359808   \n",
            "_________________________________________________________________\n",
            "block5_conv3 (Conv2D)        (None, 6, 6, 512)         2359808   \n",
            "_________________________________________________________________\n",
            "block5_pool (MaxPooling2D)   (None, 3, 3, 512)         0         \n",
            "_________________________________________________________________\n",
            "flatten_4 (Flatten)          (None, 4608)              0         \n",
            "_________________________________________________________________\n",
            "dense_5 (Dense)              (None, 1000)              4609000   \n",
            "_________________________________________________________________\n",
            "dense_6 (Dense)              (None, 6)                 6006      \n",
            "=================================================================\n",
            "Total params: 19,329,694\n",
            "Trainable params: 4,615,006\n",
            "Non-trainable params: 14,714,688\n",
            "_________________________________________________________________\n"
          ],
          "name": "stdout"
        }
      ]
    },
    {
      "cell_type": "code",
      "metadata": {
        "id": "9s7yKFBaxkOP",
        "colab_type": "code",
        "colab": {}
      },
      "source": [
        "model.compile(loss = \"categorical_crossentropy\",\n",
        "              optimizer = \"rmsprop\",\n",
        "              metrics = [\"accuracy\"])"
      ],
      "execution_count": 0,
      "outputs": []
    },
    {
      "cell_type": "code",
      "metadata": {
        "id": "vDZnke_ZtTUk",
        "colab_type": "code",
        "outputId": "d33f29a4-950e-4926-d3a4-1154adc2fe04",
        "colab": {
          "base_uri": "https://localhost:8080/",
          "height": 52
        }
      },
      "source": [
        "gen = ImageDataGenerator(rotation_range = 20,\n",
        "                         width_shift_range = 0.1,\n",
        "                         height_shift_range = 0.1,\n",
        "                         shear_range = 0.1,\n",
        "                         zoom_range = 0.2,\n",
        "                         horizontal_flip = True,\n",
        "                         vertical_flip = True,\n",
        "                         preprocessing_function = preprocess_input)\n",
        "\n",
        "batch_size = 32\n",
        "train_gen = gen.flow_from_directory(train_path, \n",
        "                                    target_size = IMAGE_SIZE,\n",
        "                                    shuffle = True,\n",
        "                                    batch_size = batch_size)\n",
        "test_gen = gen.flow_from_directory(test_path, \n",
        "                                    target_size = IMAGE_SIZE,\n",
        "                                    shuffle = True,\n",
        "                                    batch_size = batch_size)"
      ],
      "execution_count": 0,
      "outputs": [
        {
          "output_type": "stream",
          "text": [
            "Found 2883 images belonging to 6 classes.\n",
            "Found 967 images belonging to 6 classes.\n"
          ],
          "name": "stdout"
        }
      ]
    },
    {
      "cell_type": "code",
      "metadata": {
        "id": "6fAtX8yI1ZPN",
        "colab_type": "code",
        "outputId": "98ed541c-3a18-4ed0-9450-5d03e1a7347d",
        "colab": {
          "base_uri": "https://localhost:8080/",
          "height": 316
        }
      },
      "source": [
        "# let's see one of the preprocessed image\n",
        "# images loogs strange since VGG weights are BGR\n",
        "for x, y in test_gen:\n",
        "  print(\"min:\", x[0].min(), \"max:\", x[0].max())\n",
        "  plt.title(subset_classes[np.argmax(y[0])])\n",
        "  plt.imshow(x[0])\n",
        "  plt.show()\n",
        "  break"
      ],
      "execution_count": 0,
      "outputs": [
        {
          "output_type": "stream",
          "text": [
            "Clipping input data to the valid range for imshow with RGB data ([0..1] for floats or [0..255] for integers).\n"
          ],
          "name": "stderr"
        },
        {
          "output_type": "stream",
          "text": [
            "min: -102.481224 max: 151.061\n"
          ],
          "name": "stdout"
        },
        {
          "output_type": "display_data",
          "data": {
            "image/png": "[encoded data removed]",
            "text/plain": [
              "<Figure size 432x288 with 1 Axes>"
            ]
          },
          "metadata": {
            "tags": []
          }
        }
      ]
    },
    {
      "cell_type": "code",
      "metadata": {
        "id": "WUN_xqu-2he0",
        "colab_type": "code",
        "outputId": "f3a2df23-1b0d-4bd0-b906-abff0c6c707e",
        "colab": {
          "base_uri": "https://localhost:8080/",
          "height": 332
        }
      },
      "source": [
        "r = model.fit_generator(train_gen, validation_data=test_gen,\n",
        "                        epochs = 5,\n",
        "                        steps_per_epoch = len(train_files)//batch_size,\n",
        "                        validation_steps = len(test_files)//batch_size)"
      ],
      "execution_count": 0,
      "outputs": [
        {
          "output_type": "stream",
          "text": [
            "WARNING:tensorflow:From /usr/local/lib/python3.6/dist-packages/tensorflow_core/python/ops/math_grad.py:1424: where (from tensorflow.python.ops.array_ops) is deprecated and will be removed in a future version.\n",
            "Instructions for updating:\n",
            "Use tf.where in 2.0, which has the same broadcast rule as np.where\n",
            "WARNING:tensorflow:From /usr/local/lib/python3.6/dist-packages/keras/backend/tensorflow_backend.py:1033: The name tf.assign_add is deprecated. Please use tf.compat.v1.assign_add instead.\n",
            "\n",
            "WARNING:tensorflow:From /usr/local/lib/python3.6/dist-packages/keras/backend/tensorflow_backend.py:1020: The name tf.assign is deprecated. Please use tf.compat.v1.assign instead.\n",
            "\n",
            "Epoch 1/5\n",
            "90/90 [==============================] - 17s 192ms/step - loss: 4.5011 - acc: 0.6968 - val_loss: 2.7814 - val_acc: 0.8240\n",
            "Epoch 2/5\n",
            "90/90 [==============================] - 11s 119ms/step - loss: 2.8833 - acc: 0.8156 - val_loss: 2.6400 - val_acc: 0.8353\n",
            "Epoch 3/5\n",
            "90/90 [==============================] - 11s 119ms/step - loss: 2.7866 - acc: 0.8241 - val_loss: 2.9298 - val_acc: 0.8096\n",
            "Epoch 4/5\n",
            "90/90 [==============================] - 11s 118ms/step - loss: 2.8681 - acc: 0.8190 - val_loss: 2.7477 - val_acc: 0.8289\n",
            "Epoch 5/5\n",
            "90/90 [==============================] - 10s 116ms/step - loss: 2.6723 - acc: 0.8326 - val_loss: 2.7111 - val_acc: 0.8299\n"
          ],
          "name": "stdout"
        }
      ]
    },
    {
      "cell_type": "code",
      "metadata": {
        "id": "ngtibtDV7JFn",
        "colab_type": "code",
        "outputId": "d648904e-9b69-4fd6-b10a-5490eb419d8d",
        "colab": {
          "base_uri": "https://localhost:8080/",
          "height": 211
        }
      },
      "source": [
        "# with one extra dense layer with 1000 neurons\n",
        "r1 = model.fit_generator(train_gen, validation_data=test_gen,\n",
        "                        epochs = 5,\n",
        "                        steps_per_epoch = len(train_files)//batch_size,\n",
        "                        validation_steps = len(test_files)//batch_size)"
      ],
      "execution_count": 0,
      "outputs": [
        {
          "output_type": "stream",
          "text": [
            "Epoch 1/5\n",
            "90/90 [==============================] - 11s 126ms/step - loss: 5.8187 - acc: 0.6357 - val_loss: 5.5379 - val_acc: 0.6562\n",
            "Epoch 2/5\n",
            "90/90 [==============================] - 11s 120ms/step - loss: 5.4708 - acc: 0.6598 - val_loss: 5.4306 - val_acc: 0.6631\n",
            "Epoch 3/5\n",
            "90/90 [==============================] - 11s 120ms/step - loss: 3.6917 - acc: 0.7671 - val_loss: 3.0751 - val_acc: 0.8086\n",
            "Epoch 4/5\n",
            "90/90 [==============================] - 12s 130ms/step - loss: 3.2904 - acc: 0.7944 - val_loss: 3.0653 - val_acc: 0.8096\n",
            "Epoch 5/5\n",
            "90/90 [==============================] - 11s 122ms/step - loss: 3.5516 - acc: 0.7793 - val_loss: 2.9515 - val_acc: 0.8150\n"
          ],
          "name": "stdout"
        }
      ]
    },
    {
      "cell_type": "code",
      "metadata": {
        "id": "WWQQI_S13IEt",
        "colab_type": "code",
        "outputId": "485ed274-18b0-41e1-f023-40162262f4b2",
        "colab": {
          "base_uri": "https://localhost:8080/",
          "height": 283
        }
      },
      "source": [
        "plt.plot(r.history['loss'], label = \"train_loss\")\n",
        "plt.plot(r.history['val_loss'], label = \"val_loss\")"
      ],
      "execution_count": 0,
      "outputs": [
        {
          "output_type": "execute_result",
          "data": {
            "text/plain": [
              "[<matplotlib.lines.Line2D at 0x7f99702282b0>]"
            ]
          },
          "metadata": {
            "tags": []
          },
          "execution_count": 66
        },
        {
          "output_type": "display_data",
          "data": {
            "image/png": "[encoded data removed]",
            "text/plain": [
              "<Figure size 432x288 with 1 Axes>"
            ]
          },
          "metadata": {
            "tags": []
          }
        }
      ]
    },
    {
      "cell_type": "code",
      "metadata": {
        "id": "XociLYfy3p1l",
        "colab_type": "code",
        "outputId": "b5748df2-2941-4aa4-86ca-f23b5f250698",
        "colab": {
          "base_uri": "https://localhost:8080/",
          "height": 283
        }
      },
      "source": [
        "plt.plot(r.history['acc'], label = \"train_accuracy\")\n",
        "plt.plot(r.history['val_acc'], label = \"val_accuracy\")"
      ],
      "execution_count": 0,
      "outputs": [
        {
          "output_type": "execute_result",
          "data": {
            "text/plain": [
              "[<matplotlib.lines.Line2D at 0x7f997ebe57f0>]"
            ]
          },
          "metadata": {
            "tags": []
          },
          "execution_count": 68
        },
        {
          "output_type": "display_data",
          "data": {
            "image/png": "[encoded data removed]",
            "text/plain": [
              "<Figure size 432x288 with 1 Axes>"
            ]
          },
          "metadata": {
            "tags": []
          }
        }
      ]
    },
    {
      "cell_type": "code",
      "metadata": {
        "id": "cagr2yLn36fQ",
        "colab_type": "code",
        "colab": {}
      },
      "source": [
        "def get_confusion_matrix(gen, N):\n",
        "  predictions = []\n",
        "  targets = []\n",
        "  i = 0\n",
        "  for x, y in gen:\n",
        "    i += 1\n",
        "    p = model.predict(x)\n",
        "    p = np.argmax(p, axis = 1)\n",
        "    y = np.argmax(y, axis = 1)\n",
        "\n",
        "    predictions = np.concatenate((predictions, p))\n",
        "    targets = np.concatenate((targets, y))\n",
        "\n",
        "    if len(targets) >= N:\n",
        "      break\n",
        "    \n",
        "  cm = confusion_matrix(targets, predictions)\n",
        "  return cm"
      ],
      "execution_count": 0,
      "outputs": []
    },
    {
      "cell_type": "code",
      "metadata": {
        "id": "HPK3_xu-5p85",
        "colab_type": "code",
        "outputId": "6708ac05-845c-4cb8-8233-4392eba2f146",
        "colab": {
          "base_uri": "https://localhost:8080/",
          "height": 121
        }
      },
      "source": [
        "test_cm = get_confusion_matrix(test_gen, len(test_files))\n",
        "test_cm"
      ],
      "execution_count": 0,
      "outputs": [
        {
          "output_type": "execute_result",
          "data": {
            "text/plain": [
              "array([[164,   0,   0,   0,   0,   0],\n",
              "       [  0, 142,   0,   0,   1,   0],\n",
              "       [  0,   0, 166,   0,   0,   0],\n",
              "       [  0,   0,   0, 164,   0,   0],\n",
              "       [  0,   0,   0,   0, 166,   0],\n",
              "       [  0, 153,   7,   4,   0,   0]])"
            ]
          },
          "metadata": {
            "tags": []
          },
          "execution_count": 70
        }
      ]
    },
    {
      "cell_type": "code",
      "metadata": {
        "id": "6ukNSk438Es2",
        "colab_type": "code",
        "outputId": "c5571496-8190-4d3a-8465-e0f3f151b7bc",
        "colab": {
          "base_uri": "https://localhost:8080/",
          "height": 121
        }
      },
      "source": [
        "# with one extra dense layers with 1000 neurons\n",
        "test_cm = get_confusion_matrix(test_gen, len(test_files))\n",
        "test_cm"
      ],
      "execution_count": 0,
      "outputs": [
        {
          "output_type": "execute_result",
          "data": {
            "text/plain": [
              "array([[164,   0,   0,   0,   0,   0],\n",
              "       [  0, 122,   1,   0,  20,   0],\n",
              "       [  0,   0, 166,   0,   0,   0],\n",
              "       [139,   0,  21,   0,   4,   0],\n",
              "       [  0,   0,   0,   0, 166,   0],\n",
              "       [  0,   0,   0,   0,   0, 164]])"
            ]
          },
          "metadata": {
            "tags": []
          },
          "execution_count": 78
        }
      ]
    }
  ]
}